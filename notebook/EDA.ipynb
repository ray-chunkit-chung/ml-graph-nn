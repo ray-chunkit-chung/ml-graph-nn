{
 "cells": [
  {
   "cell_type": "markdown",
   "metadata": {},
   "source": [
    "https://towardsdatascience.com/a-beginners-guide-to-graph-neural-networks-using-pytorch-geometric-part-1-d98dc93e7742"
   ]
  },
  {
   "cell_type": "markdown",
   "metadata": {},
   "source": [
    "# Raw graph data"
   ]
  },
  {
   "cell_type": "code",
   "execution_count": 15,
   "metadata": {},
   "outputs": [],
   "source": [
    "import networkx as nx\n",
    "import numpy as np\n",
    "import torch\n",
    "from sklearn.preprocessing import StandardScaler\n",
    "\n",
    "# load graph from networkx library\n",
    "G = nx.karate_club_graph()\n",
    "\n",
    "# retrieve the labels for each node\n",
    "labels = np.asarray([G.nodes[i]['club'] != 'Mr. Hi' for i in G.nodes]).astype(np.int64)\n",
    "\n",
    "# create edge index from \n",
    "adj = nx.to_scipy_sparse_array(G).tocoo()\n",
    "row = torch.from_numpy(adj.row.astype(np.int64)).to(torch.long)\n",
    "col = torch.from_numpy(adj.col.astype(np.int64)).to(torch.long)\n",
    "edge_index = torch.stack([row, col], dim=0)\n",
    "\n",
    "# using degree as embedding\n",
    "embeddings = np.array(list(dict(G.degree()).values()))\n",
    "\n",
    "# normalizing degree values\n",
    "scale = StandardScaler()\n",
    "embeddings = scale.fit_transform(embeddings.reshape(-1,1))"
   ]
  },
  {
   "attachments": {},
   "cell_type": "markdown",
   "metadata": {},
   "source": [
    "# Pytorch InMemoryDataset"
   ]
  },
  {
   "cell_type": "code",
   "execution_count": 16,
   "metadata": {},
   "outputs": [],
   "source": [
    "import torch\n",
    "import pandas as pd\n",
    "from torch_geometric.data import InMemoryDataset, Data\n",
    "from sklearn.model_selection import train_test_split\n",
    "import torch_geometric.transforms as T\n",
    "\n",
    "class KarateDataset(InMemoryDataset):\n",
    "    def __init__(self, transform=None):\n",
    "        super(KarateDataset, self).__init__('.', transform, None, None)\n",
    "\n",
    "        data = Data(edge_index=edge_index)\n",
    "        \n",
    "        data.num_nodes = G.number_of_nodes()\n",
    "        \n",
    "        # embedding \n",
    "        data.x = torch.from_numpy(embeddings).type(torch.float32)\n",
    "        \n",
    "        # labels\n",
    "        y = torch.from_numpy(labels).type(torch.long)\n",
    "        data.y = y.clone().detach()\n",
    "        \n",
    "        data.num_classes = 2\n",
    "\n",
    "        # splitting the data into train, validation and test\n",
    "        X_train, X_test, y_train, y_test = train_test_split(pd.Series(list(G.nodes())), \n",
    "                                                            pd.Series(labels),\n",
    "                                                            test_size=0.30, \n",
    "                                                            random_state=42)\n",
    "        \n",
    "        n_nodes = G.number_of_nodes()\n",
    "        \n",
    "        # create train and test masks for data\n",
    "        train_mask = torch.zeros(n_nodes, dtype=torch.bool)\n",
    "        test_mask = torch.zeros(n_nodes, dtype=torch.bool)\n",
    "        train_mask[X_train.index] = True\n",
    "        test_mask[X_test.index] = True\n",
    "        data['train_mask'] = train_mask\n",
    "        data['test_mask'] = test_mask\n",
    "\n",
    "        self.data, self.slices = self.collate([data])\n",
    "\n",
    "    def _download(self):\n",
    "        return\n",
    "\n",
    "    def _process(self):\n",
    "        return\n",
    "\n",
    "    def __repr__(self):\n",
    "        return '{}()'.format(self.__class__.__name__)\n",
    "    \n",
    "dataset = KarateDataset()\n",
    "data = dataset[0]"
   ]
  },
  {
   "cell_type": "markdown",
   "metadata": {},
   "source": [
    "# Model"
   ]
  },
  {
   "cell_type": "code",
   "execution_count": 18,
   "metadata": {},
   "outputs": [],
   "source": [
    "import torch.nn as nn\n",
    "import torch.nn.functional as F\n",
    "from torch_geometric.nn import GCNConv\n",
    "\n",
    "# GCN model with 2 layers \n",
    "class Net(torch.nn.Module):\n",
    "    def __init__(self):\n",
    "        super(Net, self).__init__()\n",
    "        self.conv1 = GCNConv(data.num_features, 16)\n",
    "        self.conv2 = GCNConv(16, int(data.num_classes))\n",
    "\n",
    "    def forward(self):\n",
    "        x, edge_index = data.x, data.edge_index\n",
    "        x = F.relu(self.conv1(x, edge_index))\n",
    "        x = F.dropout(x, training=self.training)\n",
    "        x = self.conv2(x, edge_index)\n",
    "        return F.log_softmax(x, dim=1)\n",
    "\n",
    "device = torch.device('cuda' if torch.cuda.is_available() else 'cpu')\n",
    "\n",
    "data =  data.to(device)\n",
    "\n",
    "model = Net().to(device) "
   ]
  },
  {
   "attachments": {},
   "cell_type": "markdown",
   "metadata": {},
   "source": [
    "# Train"
   ]
  },
  {
   "cell_type": "code",
   "execution_count": 22,
   "metadata": {},
   "outputs": [
    {
     "name": "stdout",
     "output_type": "stream",
     "text": [
      "######################################################################\n",
      "Train Accuracy: 0.9130434782608695\n",
      "Test Accuracy: 0.7272727272727273\n",
      "######################################################################\n"
     ]
    }
   ],
   "source": [
    "torch.manual_seed(42)\n",
    "\n",
    "optimizer_name = \"Adam\"\n",
    "lr = 1e-1\n",
    "optimizer = getattr(torch.optim, optimizer_name)(model.parameters(), lr=lr)\n",
    "epochs = 2000\n",
    "\n",
    "def train():\n",
    "  model.train()\n",
    "  optimizer.zero_grad()\n",
    "  F.nll_loss(model()[data.train_mask], data.y[data.train_mask]).backward()\n",
    "  optimizer.step()\n",
    "\n",
    "@torch.no_grad()\n",
    "def test():\n",
    "  model.eval()\n",
    "  logits = model()\n",
    "  mask1 = data['train_mask']\n",
    "  pred1 = logits[mask1].max(1)[1]\n",
    "  acc1 = pred1.eq(data.y[mask1]).sum().item() / mask1.sum().item()\n",
    "  mask = data['test_mask']\n",
    "  pred = logits[mask].max(1)[1]\n",
    "  acc = pred.eq(data.y[mask]).sum().item() / mask.sum().item()\n",
    "  return acc1,acc\n",
    "\n",
    "for epoch in range(1, epochs):\n",
    "  train()\n",
    "\n",
    "train_acc,test_acc = test()\n",
    "\n",
    "print('#' * 70)\n",
    "print('Train Accuracy: %s' %train_acc )\n",
    "print('Test Accuracy: %s' % test_acc)\n",
    "print('#' * 70)"
   ]
  },
  {
   "cell_type": "code",
   "execution_count": null,
   "metadata": {},
   "outputs": [],
   "source": []
  }
 ],
 "metadata": {
  "kernelspec": {
   "display_name": ".venv",
   "language": "python",
   "name": "python3"
  },
  "language_info": {
   "codemirror_mode": {
    "name": "ipython",
    "version": 3
   },
   "file_extension": ".py",
   "mimetype": "text/x-python",
   "name": "python",
   "nbconvert_exporter": "python",
   "pygments_lexer": "ipython3",
   "version": "3.9.2"
  },
  "orig_nbformat": 4,
  "vscode": {
   "interpreter": {
    "hash": "ee07dc976276db578c8966d4f8c3fcc93f07c27da7d43f61a2e4a5733642145d"
   }
  }
 },
 "nbformat": 4,
 "nbformat_minor": 2
}
